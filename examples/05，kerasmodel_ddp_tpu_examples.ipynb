{
 "cells": [
  {
   "cell_type": "markdown",
   "metadata": {},
   "source": [
    "## 一，使用 CPU/单GPU 训练你的pytorch模型"
   ]
  },
  {
   "cell_type": "markdown",
   "metadata": {},
   "source": [
    "当系统存在GPU时，torchkeras 会自动使用GPU训练你的pytorch模型，否则会使用CPU训练模型。\n",
    "\n",
    "在我们的范例中，单GPU训练的话，一个Epoch大约是18s。"
   ]
  },
  {
   "cell_type": "code",
   "execution_count": 2,
   "metadata": {
    "execution": {
     "iopub.execute_input": "2023-01-20T03:24:21.353048Z",
     "iopub.status.busy": "2023-01-20T03:24:21.352672Z",
     "iopub.status.idle": "2023-01-20T03:26:08.547350Z",
     "shell.execute_reply": "2023-01-20T03:26:08.546160Z",
     "shell.execute_reply.started": "2023-01-20T03:24:21.353014Z"
    }
   },
   "outputs": [
    {
     "name": "stdout",
     "output_type": "stream",
     "text": [
      "fit\n",
      "<<<<<< ⚡️ cuda is used >>>>>>\n"
     ]
    },
    {
     "data": {
      "image/png": "[encoded data removed]",
      "text/plain": [
       "<Figure size 600x400 with 1 Axes>"
      ]
     },
     "metadata": {},
     "output_type": "display_data"
    },
    {
     "data": {
      "text/html": [
       "\n",
       "<style>\n",
       "    /* background: */\n",
       "    progress::-webkit-progress-bar {background-color: #CDCDCD; width: 100%;}\n",
       "    progress {background-color: #CDCDCD;}\n",
       "\n",
       "    /* value: */\n",
       "    progress::-webkit-progress-value {background-color: #00BFFF  !important;}\n",
       "    progress::-moz-progress-bar {background-color: #00BFFF  !important;}\n",
       "    progress {color: #00BFFF ;}\n",
       "\n",
       "    /* optional */\n",
       "    .progress-bar-interrupted, .progress-bar-interrupted::-webkit-progress-bar {\n",
       "        background: #000000;\n",
       "    }\n",
       "</style>\n"
      ],
      "text/plain": [
       "<IPython.core.display.HTML object>"
      ]
     },
     "metadata": {},
     "output_type": "display_data"
    },
    {
     "data": {
      "text/html": [
       "\n",
       "    <div>\n",
       "      <progress value='0' class='' max='5' style='width:300px; height:20px; vertical-align: middle;'></progress>\n",
       "      0% [0/5]\n",
       "      <br>\n",
       "      ██████████▋         53.45% [31/58] [train_loss=1.6062, train_acc=0.7178, lr=9.0451e-05]\n",
       "    </div>\n",
       "    "
      ],
      "text/plain": [
       "<IPython.core.display.HTML object>"
      ]
     },
     "metadata": {},
     "output_type": "display_data"
    },
    {
     "ename": "KeyboardInterrupt",
     "evalue": "",
     "output_type": "error",
     "traceback": [
      "\u001B[0;31m---------------------------------------------------------------------------\u001B[0m",
      "\u001B[0;31mKeyboardInterrupt\u001B[0m                         Traceback (most recent call last)",
      "Cell \u001B[0;32mIn[2], line 53\u001B[0m\n\u001B[1;32m     49\u001B[0m lr_scheduler \u001B[38;5;241m=\u001B[39m torch\u001B[38;5;241m.\u001B[39moptim\u001B[38;5;241m.\u001B[39mlr_scheduler\u001B[38;5;241m.\u001B[39mCosineAnnealingWarmRestarts(\n\u001B[1;32m     50\u001B[0m     optimizer\u001B[38;5;241m=\u001B[39moptimizer,T_0\u001B[38;5;241m=\u001B[39m\u001B[38;5;241m5\u001B[39m)\n\u001B[1;32m     52\u001B[0m model \u001B[38;5;241m=\u001B[39m KerasModel(net,loss_fn,metrics_dict,optimizer,lr_scheduler)\n\u001B[0;32m---> 53\u001B[0m dfhistory \u001B[38;5;241m=\u001B[39m \u001B[43mmodel\u001B[49m\u001B[38;5;241;43m.\u001B[39;49m\u001B[43mfit\u001B[49m\u001B[43m(\u001B[49m\u001B[43mtrain_data\u001B[49m\u001B[43m \u001B[49m\u001B[38;5;241;43m=\u001B[39;49m\u001B[43m \u001B[49m\u001B[43mdl_train\u001B[49m\u001B[43m,\u001B[49m\n\u001B[1;32m     54\u001B[0m \u001B[43m    \u001B[49m\u001B[43mval_data\u001B[49m\u001B[43m \u001B[49m\u001B[38;5;241;43m=\u001B[39;49m\u001B[43m \u001B[49m\u001B[43mdl_val\u001B[49m\u001B[43m,\u001B[49m\n\u001B[1;32m     55\u001B[0m \u001B[43m    \u001B[49m\u001B[43mepochs\u001B[49m\u001B[38;5;241;43m=\u001B[39;49m\u001B[38;5;241;43m5\u001B[39;49m\u001B[43m,\u001B[49m\n\u001B[1;32m     56\u001B[0m \u001B[43m    \u001B[49m\u001B[43mckpt_path\u001B[49m\u001B[38;5;241;43m=\u001B[39;49m\u001B[38;5;124;43m'\u001B[39;49m\u001B[38;5;124;43mcheckpoint.pt\u001B[39;49m\u001B[38;5;124;43m'\u001B[39;49m\u001B[43m,\u001B[49m\n\u001B[1;32m     57\u001B[0m \u001B[43m    \u001B[49m\u001B[43mpatience\u001B[49m\u001B[38;5;241;43m=\u001B[39;49m\u001B[38;5;241;43m2\u001B[39;49m\u001B[43m,\u001B[49m\n\u001B[1;32m     58\u001B[0m \u001B[43m    \u001B[49m\u001B[43mmonitor\u001B[49m\u001B[38;5;241;43m=\u001B[39;49m\u001B[38;5;124;43m'\u001B[39;49m\u001B[38;5;124;43mval_acc\u001B[39;49m\u001B[38;5;124;43m'\u001B[39;49m\u001B[43m,\u001B[49m\n\u001B[1;32m     59\u001B[0m \u001B[43m    \u001B[49m\u001B[43mmode\u001B[49m\u001B[38;5;241;43m=\u001B[39;49m\u001B[38;5;124;43m'\u001B[39;49m\u001B[38;5;124;43mmax\u001B[39;49m\u001B[38;5;124;43m'\u001B[39;49m\u001B[43m,\u001B[49m\n\u001B[1;32m     60\u001B[0m \u001B[43m    \u001B[49m\u001B[43mmixed_precision\u001B[49m\u001B[38;5;241;43m=\u001B[39;49m\u001B[38;5;124;43m'\u001B[39;49m\u001B[38;5;124;43mno\u001B[39;49m\u001B[38;5;124;43m'\u001B[39;49m\u001B[43m)\u001B[49m\n\u001B[1;32m     62\u001B[0m \u001B[38;5;66;03m### 4，评估模型\u001B[39;00m\n\u001B[1;32m     63\u001B[0m model\u001B[38;5;241m.\u001B[39mnet\u001B[38;5;241m.\u001B[39mload_state_dict(torch\u001B[38;5;241m.\u001B[39mload(\u001B[38;5;124m'\u001B[39m\u001B[38;5;124mcheckpoint.pt\u001B[39m\u001B[38;5;124m'\u001B[39m))\n",
      "File \u001B[0;32m~/anaconda3/envs/pySEG/lib/python3.9/site-packages/torchkeras/kerasmodel.py:218\u001B[0m, in \u001B[0;36mKerasModel.fit\u001B[0;34m(self, train_data, val_data, epochs, ckpt_path, patience, monitor, mode, callbacks, plot, wandb, quiet, mixed_precision, cpu, gradient_accumulation_steps)\u001B[0m\n\u001B[1;32m    216\u001B[0m train_epoch_runner \u001B[38;5;241m=\u001B[39m \u001B[38;5;28mself\u001B[39m\u001B[38;5;241m.\u001B[39mEpochRunner(train_step_runner,should_quiet)\n\u001B[1;32m    217\u001B[0m train_metrics \u001B[38;5;241m=\u001B[39m {\u001B[38;5;124m'\u001B[39m\u001B[38;5;124mepoch\u001B[39m\u001B[38;5;124m'\u001B[39m:epoch}\n\u001B[0;32m--> 218\u001B[0m train_metrics\u001B[38;5;241m.\u001B[39mupdate(\u001B[43mtrain_epoch_runner\u001B[49m\u001B[43m(\u001B[49m\u001B[43mtrain_dataloader\u001B[49m\u001B[43m)\u001B[49m)\n\u001B[1;32m    220\u001B[0m \u001B[38;5;28;01mfor\u001B[39;00m name, metric \u001B[38;5;129;01min\u001B[39;00m train_metrics\u001B[38;5;241m.\u001B[39mitems():\n\u001B[1;32m    221\u001B[0m     \u001B[38;5;28mself\u001B[39m\u001B[38;5;241m.\u001B[39mhistory[name] \u001B[38;5;241m=\u001B[39m \u001B[38;5;28mself\u001B[39m\u001B[38;5;241m.\u001B[39mhistory\u001B[38;5;241m.\u001B[39mget(name, []) \u001B[38;5;241m+\u001B[39m [metric]\n",
      "File \u001B[0;32m~/anaconda3/envs/pySEG/lib/python3.9/site-packages/torchkeras/kerasmodel.py:77\u001B[0m, in \u001B[0;36mEpochRunner.__call__\u001B[0;34m(self, dataloader)\u001B[0m\n\u001B[1;32m     75\u001B[0m \u001B[38;5;28;01mfor\u001B[39;00m step, batch \u001B[38;5;129;01min\u001B[39;00m loop: \n\u001B[1;32m     76\u001B[0m     \u001B[38;5;28;01mwith\u001B[39;00m \u001B[38;5;28mself\u001B[39m\u001B[38;5;241m.\u001B[39maccelerator\u001B[38;5;241m.\u001B[39maccumulate(\u001B[38;5;28mself\u001B[39m\u001B[38;5;241m.\u001B[39mnet):\n\u001B[0;32m---> 77\u001B[0m         step_losses,step_metrics \u001B[38;5;241m=\u001B[39m \u001B[38;5;28;43mself\u001B[39;49m\u001B[38;5;241;43m.\u001B[39;49m\u001B[43msteprunner\u001B[49m\u001B[43m(\u001B[49m\u001B[43mbatch\u001B[49m\u001B[43m)\u001B[49m   \n\u001B[1;32m     78\u001B[0m         step_log \u001B[38;5;241m=\u001B[39m \u001B[38;5;28mdict\u001B[39m(step_losses,\u001B[38;5;241m*\u001B[39m\u001B[38;5;241m*\u001B[39mstep_metrics)\n\u001B[1;32m     79\u001B[0m         \u001B[38;5;28;01mfor\u001B[39;00m k,v \u001B[38;5;129;01min\u001B[39;00m step_losses\u001B[38;5;241m.\u001B[39mitems():\n",
      "File \u001B[0;32m~/anaconda3/envs/pySEG/lib/python3.9/site-packages/torchkeras/kerasmodel.py:44\u001B[0m, in \u001B[0;36mStepRunner.__call__\u001B[0;34m(self, batch)\u001B[0m\n\u001B[1;32m     41\u001B[0m all_labels \u001B[38;5;241m=\u001B[39m \u001B[38;5;28mself\u001B[39m\u001B[38;5;241m.\u001B[39maccelerator\u001B[38;5;241m.\u001B[39mgather(labels)\n\u001B[1;32m     43\u001B[0m \u001B[38;5;66;03m#losses (or plain metrics that can be averaged)\u001B[39;00m\n\u001B[0;32m---> 44\u001B[0m step_losses \u001B[38;5;241m=\u001B[39m {\u001B[38;5;28mself\u001B[39m\u001B[38;5;241m.\u001B[39mstage\u001B[38;5;241m+\u001B[39m\u001B[38;5;124m\"\u001B[39m\u001B[38;5;124m_loss\u001B[39m\u001B[38;5;124m\"\u001B[39m:\u001B[43mall_loss\u001B[49m\u001B[38;5;241;43m.\u001B[39;49m\u001B[43mitem\u001B[49m\u001B[43m(\u001B[49m\u001B[43m)\u001B[49m}\n\u001B[1;32m     46\u001B[0m \u001B[38;5;66;03m#metrics (stateful metrics)\u001B[39;00m\n\u001B[1;32m     47\u001B[0m step_metrics \u001B[38;5;241m=\u001B[39m {\u001B[38;5;28mself\u001B[39m\u001B[38;5;241m.\u001B[39mstage\u001B[38;5;241m+\u001B[39m\u001B[38;5;124m\"\u001B[39m\u001B[38;5;124m_\u001B[39m\u001B[38;5;124m\"\u001B[39m\u001B[38;5;241m+\u001B[39mname:metric_fn(all_preds, all_labels)\u001B[38;5;241m.\u001B[39mitem() \n\u001B[1;32m     48\u001B[0m                 \u001B[38;5;28;01mfor\u001B[39;00m name,metric_fn \u001B[38;5;129;01min\u001B[39;00m \u001B[38;5;28mself\u001B[39m\u001B[38;5;241m.\u001B[39mmetrics_dict\u001B[38;5;241m.\u001B[39mitems()}\n",
      "\u001B[0;31mKeyboardInterrupt\u001B[0m: "
     ]
    }
   ],
   "source": [
    "import torch\n",
    "from torch import nn \n",
    "import torchvision \n",
    "from torchvision import transforms\n",
    "import torchmetrics \n",
    "from torchkeras import KerasModel \n",
    "\n",
    "### 1，准备数据\n",
    "\n",
    "def create_dataloaders(batch_size=1024):\n",
    "    transform = transforms.Compose([transforms.ToTensor()])\n",
    "\n",
    "    ds_train = torchvision.datasets.MNIST(root=\"../datasets/mnist/\",train=True,download=True,transform=transform)\n",
    "    ds_val = torchvision.datasets.MNIST(root=\"../datasets/mnist/\",train=False,download=True,transform=transform)\n",
    "\n",
    "    dl_train =  torch.utils.data.DataLoader(ds_train, batch_size=batch_size, shuffle=True,\n",
    "                                            num_workers=2,drop_last=True)\n",
    "    dl_val =  torch.utils.data.DataLoader(ds_val, batch_size=batch_size, shuffle=False, \n",
    "                                          num_workers=2,drop_last=True)\n",
    "    return dl_train,dl_val\n",
    "\n",
    "dl_train,dl_val = create_dataloaders(batch_size=1024)\n",
    "\n",
    "### 2，定义模型\n",
    "\n",
    "def create_net():\n",
    "    net = nn.Sequential()\n",
    "    net.add_module(\"conv1\",nn.Conv2d(in_channels=1,out_channels=512,kernel_size = 3))\n",
    "    net.add_module(\"pool1\",nn.MaxPool2d(kernel_size = 2,stride = 2)) \n",
    "    net.add_module(\"conv2\",nn.Conv2d(in_channels=512,out_channels=256,kernel_size = 5))\n",
    "    net.add_module(\"pool2\",nn.MaxPool2d(kernel_size = 2,stride = 2))\n",
    "    net.add_module(\"dropout\",nn.Dropout2d(p = 0.1))\n",
    "    net.add_module(\"adaptive_pool\",nn.AdaptiveMaxPool2d((1,1)))\n",
    "    net.add_module(\"flatten\",nn.Flatten())\n",
    "    net.add_module(\"linear1\",nn.Linear(256,128))\n",
    "    net.add_module(\"relu\",nn.ReLU())\n",
    "    net.add_module(\"linear2\",nn.Linear(128,10))\n",
    "    return net \n",
    "\n",
    "net = create_net() \n",
    "\n",
    "\n",
    "### 3，训练模型\n",
    "\n",
    "loss_fn = nn.CrossEntropyLoss() \n",
    "metrics_dict = {'acc':torchmetrics.Accuracy(task='multiclass',num_classes=10)}\n",
    "\n",
    "optimizer = torch.optim.AdamW(params=net.parameters(), lr=1e-4)\n",
    "lr_scheduler = torch.optim.lr_scheduler.CosineAnnealingWarmRestarts(\n",
    "    optimizer=optimizer,T_0=5)\n",
    "\n",
    "model = KerasModel(net,loss_fn,metrics_dict,optimizer,lr_scheduler)\n",
    "dfhistory = model.fit(train_data = dl_train,\n",
    "    val_data = dl_val,\n",
    "    epochs=5,\n",
    "    ckpt_path='checkpoint.pt',\n",
    "    patience=2,\n",
    "    monitor='val_acc',\n",
    "    mode='max',\n",
    "    mixed_precision='no')\n",
    "\n",
    "### 4，评估模型\n",
    "model.net.load_state_dict(torch.load('checkpoint.pt'))\n",
    "print(model.evaluate(dl_val)) \n"
   ]
  },
  {
   "cell_type": "markdown",
   "metadata": {},
   "source": [
    "## 二，使用多GPU DDP模式训练你的pytorch模型"
   ]
  },
  {
   "cell_type": "markdown",
   "metadata": {},
   "source": [
    "Kaggle中右边settings 中的 ACCELERATOR选择 GPU T4x2。"
   ]
  },
  {
   "cell_type": "markdown",
   "metadata": {},
   "source": [
    "### 1，设置config "
   ]
  },
  {
   "cell_type": "code",
   "execution_count": 1,
   "metadata": {
    "execution": {
     "iopub.execute_input": "2023-01-20T03:26:16.345354Z",
     "iopub.status.busy": "2023-01-20T03:26:16.343506Z"
    }
   },
   "outputs": [
    {
     "name": "stdout",
     "output_type": "stream",
     "text": [
      "Configuration already exists at /home/zijieshen/.cache/huggingface/accelerate/default_config.yaml, will not override. Run `accelerate config` manually or pass a different `save_location`.\n"
     ]
    },
    {
     "data": {
      "text/plain": [
       "False"
      ]
     },
     "execution_count": 1,
     "metadata": {},
     "output_type": "execute_result"
    }
   ],
   "source": [
    "import os\n",
    "from accelerate.utils import write_basic_config\n",
    "write_basic_config() # Write a config file"
   ]
  },
  {
   "cell_type": "code",
   "execution_count": null,
   "metadata": {},
   "outputs": [],
   "source": [
    "# or answer some question to create a config\n",
    "#!accelerate config  "
   ]
  },
  {
   "cell_type": "markdown",
   "metadata": {},
   "source": [
    "### 2，训练代码"
   ]
  },
  {
   "cell_type": "markdown",
   "metadata": {},
   "source": [
    "在我们的范例中，双GPU使用DDP模式训练的话，一个Epoch大约是12s。"
   ]
  },
  {
   "cell_type": "code",
   "execution_count": 1,
   "metadata": {
    "execution": {
     "iopub.execute_input": "2023-01-20T03:26:26.609388Z",
     "iopub.status.busy": "2023-01-20T03:26:26.608963Z",
     "iopub.status.idle": "2023-01-20T03:27:39.756433Z",
     "shell.execute_reply": "2023-01-20T03:27:39.755294Z",
     "shell.execute_reply.started": "2023-01-20T03:26:26.609299Z"
    }
   },
   "outputs": [
    {
     "name": "stdout",
     "output_type": "stream",
     "text": [
      "Launching training on 2 GPUs.\n",
      "\u001B[0;31m<<<<<< ⚡️ cuda:0 is used >>>>>>\u001B[0m\n",
      "bp 1\n",
      "\n",
      "================================================================================2024-05-11 18:34:55\n",
      "Epoch 1 / 10\n",
      "\n",
      "  0%|                                                                        | 0/29 [00:00<?, ?it/s]"
     ]
    }
   ],
   "source": [
    "import torchvision \n",
    "from torchvision import transforms\n",
    "from torch import nn \n",
    "import torch\n",
    "import torchmetrics \n",
    "from accelerate import notebook_launcher\n",
    "from torchkeras.kerasmodel import KerasModel \n",
    "\n",
    "### 1，准备数据\n",
    "\n",
    "def create_dataloaders(batch_size=2):\n",
    "    transform = transforms.Compose([transforms.ToTensor()])\n",
    "\n",
    "    ds_train = torchvision.datasets.MNIST(root=\"./minist/\",train=True,download=True,transform=transform)\n",
    "    ds_val = torchvision.datasets.MNIST(root=\"./minist/\",train=False,download=True,transform=transform)\n",
    "\n",
    "    dl_train =  torch.utils.data.DataLoader(ds_train, batch_size=batch_size, shuffle=True,\n",
    "                                            num_workers=2,drop_last=True)\n",
    "    dl_val =  torch.utils.data.DataLoader(ds_val, batch_size=batch_size, shuffle=False, \n",
    "                                          num_workers=2,drop_last=True)\n",
    "    return dl_train,dl_val\n",
    "\n",
    "dl_train,dl_val = create_dataloaders(batch_size=1024)\n",
    "\n",
    "### 2，定义模型\n",
    "\n",
    "def create_net():\n",
    "    net = nn.Sequential()\n",
    "    net.add_module(\"conv1\",nn.Conv2d(in_channels=1,out_channels=512,kernel_size = 3))\n",
    "    net.add_module(\"pool1\",nn.MaxPool2d(kernel_size = 2,stride = 2)) \n",
    "    net.add_module(\"conv2\",nn.Conv2d(in_channels=512,out_channels=256,kernel_size = 5))\n",
    "    net.add_module(\"pool2\",nn.MaxPool2d(kernel_size = 2,stride = 2))\n",
    "    net.add_module(\"dropout\",nn.Dropout2d(p = 0.1))\n",
    "    net.add_module(\"adaptive_pool\",nn.AdaptiveMaxPool2d((1,1)))\n",
    "    net.add_module(\"flatten\",nn.Flatten())\n",
    "    net.add_module(\"linear1\",nn.Linear(256,128))\n",
    "    net.add_module(\"relu\",nn.ReLU())\n",
    "    net.add_module(\"linear2\",nn.Linear(128,10))\n",
    "    return net \n",
    "\n",
    "net = create_net() \n",
    "\n",
    "\n",
    "### 3，训练模型\n",
    "\n",
    "loss_fn = nn.CrossEntropyLoss() \n",
    "metrics_dict = {'acc':torchmetrics.Accuracy(task='multiclass',num_classes=10)}\n",
    "\n",
    "optimizer = torch.optim.AdamW(params=net.parameters(), lr=1e-4)\n",
    "lr_scheduler = torch.optim.lr_scheduler.CosineAnnealingWarmRestarts(\n",
    "    optimizer=optimizer,T_0=5)\n",
    "\n",
    "model = KerasModel(net,loss_fn,metrics_dict,optimizer,lr_scheduler)\n",
    "\n",
    "ckpt_path = 'checkpoint.pt'\n",
    "args = dict(train_data = dl_train,\n",
    "        val_data = dl_val,\n",
    "        epochs=10,\n",
    "        ckpt_path= ckpt_path,\n",
    "        patience=2,\n",
    "        monitor='val_acc',\n",
    "        mode='max',\n",
    "        callbacks=None,\n",
    "        plot=True,\n",
    "        wandb=False,\n",
    "        quiet=None,\n",
    "        mixed_precision='no'\n",
    ")\n",
    "\n",
    "model.fit_ddp(\n",
    "    num_processes=2,\n",
    "    **args\n",
    ")\n",
    "\n",
    "# ### 4，评估模型\n",
    "# model.net.load_state_dict(torch.load('checkpoint.pt'))\n",
    "# print(model.evaluate(dl_val)) \n"
   ]
  }
 ],
 "metadata": {
  "kernelspec": {
   "display_name": "Python 3 (ipykernel)",
   "language": "python",
   "name": "python3"
  },
  "language_info": {
   "codemirror_mode": {
    "name": "ipython",
    "version": 3
   },
   "file_extension": ".py",
   "mimetype": "text/x-python",
   "name": "python",
   "nbconvert_exporter": "python",
   "pygments_lexer": "ipython3",
   "version": "3.7.16"
  }
 },
 "nbformat": 4,
 "nbformat_minor": 4
}
