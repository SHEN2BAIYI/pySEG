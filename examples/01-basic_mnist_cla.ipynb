{
 "cells": [
  {
   "cell_type": "markdown",
   "id": "8068f820",
   "metadata": {
    "papermill": {
     "duration": 0.006178,
     "end_time": "2024-01-08T03:46:12.447977",
     "exception": false,
     "start_time": "2024-01-08T03:46:12.441799",
     "status": "completed"
    },
    "tags": []
   },
   "source": [
    "# KerasModel Example"
   ]
  },
  {
   "cell_type": "markdown",
   "id": "8ff4bae4",
   "metadata": {},
   "source": [
    "MNIST 手写分类"
   ]
  },
  {
   "cell_type": "markdown",
   "id": "b84d3f83",
   "metadata": {
    "papermill": {
     "duration": 0.005021,
     "end_time": "2024-01-08T03:46:12.458709",
     "exception": false,
     "start_time": "2024-01-08T03:46:12.453688",
     "status": "completed"
    },
    "tags": []
   },
   "source": [
    "# 一、环境准备"
   ]
  },
  {
   "cell_type": "markdown",
   "id": "938b0fa4",
   "metadata": {},
   "source": [
    "## 1.导包"
   ]
  },
  {
   "cell_type": "code",
   "execution_count": 1,
   "id": "c128df4d",
   "metadata": {},
   "outputs": [],
   "source": [
    "import sys \n",
    "import numpy as np \n",
    "import pandas as pd \n",
    "import torchkeras\n",
    "import torchvision\n",
    "import torch\n",
    "import torch.nn as nn\n",
    "import torch.nn.functional as F\n",
    "from torch.utils.data import Dataset,DataLoader\n",
    "from torchvision import transforms\n",
    "from matplotlib import pyplot as plt\n",
    "from argparse import Namespace\n",
    "from pathlib import Path"
   ]
  },
  {
   "cell_type": "markdown",
   "id": "e73ca619",
   "metadata": {
    "papermill": {
     "duration": 0.002147,
     "end_time": "2024-01-08T03:46:14.853121",
     "exception": false,
     "start_time": "2024-01-08T03:46:14.850974",
     "status": "completed"
    },
    "tags": []
   },
   "source": [
    "## 2.检查 CUDA 状态"
   ]
  },
  {
   "cell_type": "code",
   "execution_count": 2,
   "id": "0b6f0efa",
   "metadata": {},
   "outputs": [
    {
     "name": "stdout",
     "output_type": "stream",
     "text": [
      "CUDA可使用\n",
      "GPU数量： 2\n",
      "驱动为： cuda:0\n",
      "GPU型号：  NVIDIA GeForce RTX 3090\n"
     ]
    }
   ],
   "source": [
    "flag = torch.cuda.is_available()\n",
    "if flag:\n",
    "    print(\"CUDA可使用\")\n",
    "else:\n",
    "    print(\"CUDA不可用\")\n",
    "\n",
    "# 获取GPU数量\n",
    "ngpu = torch.cuda.device_count()\n",
    "print(\"GPU数量：\",ngpu)\n",
    "# Decide which device we want to run on\n",
    "device = torch.device(\"cuda:0\" if (torch.cuda.is_available() and ngpu > 0) else \"cpu\")\n",
    "print(\"驱动为：\",device)\n",
    "print(\"GPU型号： \",torch.cuda.get_device_name(0))"
   ]
  },
  {
   "cell_type": "markdown",
   "id": "5cdf857b",
   "metadata": {},
   "source": [
    "## 3.环境超参"
   ]
  },
  {
   "cell_type": "code",
   "execution_count": null,
   "id": "ead2cc9e",
   "metadata": {},
   "outputs": [],
   "source": [
    "sys.path.append(\"..\")\n",
    "\n",
    "config = Namespace(\n",
    "    img_size = 128,\n",
    "    lr = 1e-4,\n",
    "    batch_size = 64,\n",
    "    num_workers = 2\n",
    ")"
   ]
  },
  {
   "cell_type": "markdown",
   "id": "d8b186d1",
   "metadata": {},
   "source": [
    "# 二、数据准备"
   ]
  },
  {
   "cell_type": "markdown",
   "id": "33f4a83b",
   "metadata": {},
   "source": [
    "## 1.定义数据增强方式"
   ]
  },
  {
   "cell_type": "code",
   "execution_count": null,
   "id": "007291cf",
   "metadata": {},
   "outputs": [],
   "source": [
    "transform = transforms.Compose([transforms.ToTensor()])"
   ]
  },
  {
   "cell_type": "markdown",
   "id": "031848d2",
   "metadata": {},
   "source": [
    "## 2.定义 dataset 和 dataloader"
   ]
  },
  {
   "cell_type": "code",
   "execution_count": null,
   "id": "25ab4939",
   "metadata": {
    "papermill": {
     "duration": 0.259207,
     "end_time": "2024-01-08T03:46:15.116019",
     "exception": false,
     "start_time": "2024-01-08T03:46:14.856812",
     "status": "completed"
    },
    "tags": []
   },
   "outputs": [],
   "source": [
    " \n",
    "train_dataset = torchvision.datasets.MNIST(root=\"../datasets/mnist/\",train=True,download=True,transform=transform)\n",
    "train_dataset = torch.utils.data.Subset(train_dataset,range(0,len(train_dataset),20))\n",
    "val_dataset = torchvision.datasets.MNIST(root=\"../datasets/mnist/\",train=False,download=True,transform=transform)\n",
    "val_dataset = torch.utils.data.Subset(val_dataset,range(0,len(val_dataset),20))\n",
    "\n",
    "train_dataloader = torch.utils.data.DataLoader(\n",
    "    train_dataset, batch_size=config.batch_size, \n",
    "    shuffle=True, num_workers=config.num_workers\n",
    ")\n",
    "val_dataloader = torch.utils.data.DataLoader(\n",
    "    val_dataset, batch_size=config.batch_size, \n",
    "    shuffle=False, num_workers=config.num_workers\n",
    ")"
   ]
  },
  {
   "cell_type": "markdown",
   "id": "cceeb29b",
   "metadata": {},
   "source": [
    "## 3.检查数据"
   ]
  },
  {
   "cell_type": "code",
   "execution_count": null,
   "id": "67f70d6f-bfe0-495c-9bd9-34f5eacb191c",
   "metadata": {
    "papermill": {
     "duration": 0.003496,
     "end_time": "2024-01-08T03:46:15.123657",
     "exception": false,
     "start_time": "2024-01-08T03:46:15.120161",
     "status": "completed"
    },
    "tags": []
   },
   "outputs": [],
   "source": [
    "from PIL import Image\n",
    "from torchkeras.plots import joint_imgs_row\n",
    "from matplotlib import pyplot as plt \n",
    "\n",
    "for images, labels in train_dataloader:\n",
    "    break\n",
    "\n",
    "print(images.shape)\n",
    "print(labels.shape)\n",
    "\n",
    "fig = plt.figure(figsize=(8,8)) \n",
    "for i in range(9):\n",
    "    img,label = images[i], labels[i]\n",
    "    img = img.permute(1,2,0)\n",
    "    ax=plt.subplot(3,3,i+1)\n",
    "    ax.imshow(img.numpy())\n",
    "    ax.set_title(\"label = %d\"%label)\n",
    "    ax.set_xticks([])\n",
    "    ax.set_yticks([]) \n",
    "plt.show()"
   ]
  },
  {
   "cell_type": "markdown",
   "id": "61cee98f",
   "metadata": {},
   "source": [
    "# 三、训练准备"
   ]
  },
  {
   "cell_type": "markdown",
   "id": "4d639755",
   "metadata": {},
   "source": [
    "## 1.定义评价指标"
   ]
  },
  {
   "cell_type": "code",
   "execution_count": null,
   "id": "4932ff41",
   "metadata": {},
   "outputs": [],
   "source": [
    "class Accuracy(nn.Module):\n",
    "    def __init__(self):\n",
    "        super().__init__()\n",
    "\n",
    "        self.correct = nn.Parameter(torch.tensor(0.0),requires_grad=False)\n",
    "        self.total = nn.Parameter(torch.tensor(0.0),requires_grad=False)\n",
    "\n",
    "    def forward(self, preds: torch.Tensor, targets: torch.Tensor):\n",
    "        preds = preds.argmax(dim=-1)\n",
    "        m = (preds == targets).sum()\n",
    "        n = targets.shape[0] \n",
    "        self.correct += m \n",
    "        self.total += n\n",
    "        \n",
    "        return m/n\n",
    "\n",
    "    def compute(self):\n",
    "        return self.correct.float() / self.total \n",
    "    \n",
    "    def reset(self):\n",
    "        self.correct -= self.correct\n",
    "        self.total -= self.total\n",
    "        "
   ]
  },
  {
   "cell_type": "markdown",
   "id": "7f4be22d",
   "metadata": {},
   "source": [
    "## 2.定义模型"
   ]
  },
  {
   "cell_type": "code",
   "execution_count": null,
   "id": "b0ebff54",
   "metadata": {},
   "outputs": [],
   "source": [
    "def create_net():\n",
    "    net = nn.Sequential()\n",
    "    net.add_module(\"conv1\",nn.Conv2d(in_channels=1,out_channels=32,kernel_size = 3))\n",
    "    net.add_module(\"pool1\",nn.MaxPool2d(kernel_size = 2,stride = 2))\n",
    "    net.add_module(\"conv2\",nn.Conv2d(in_channels=32,out_channels=64,kernel_size = 5))\n",
    "    net.add_module(\"pool2\",nn.MaxPool2d(kernel_size = 2,stride = 2))\n",
    "    net.add_module(\"dropout\",nn.Dropout2d(p = 0.1))\n",
    "    net.add_module(\"adaptive_pool\",nn.AdaptiveMaxPool2d((1,1)))\n",
    "    net.add_module(\"flatten\",nn.Flatten())\n",
    "    net.add_module(\"linear1\",nn.Linear(64,32))\n",
    "    net.add_module(\"relu\",nn.ReLU())\n",
    "    net.add_module(\"linear2\",nn.Linear(32,10))\n",
    "    return net\n",
    "\n",
    "net = create_net()\n",
    "model = torchkeras.KerasModel(\n",
    "    net,\n",
    "    loss_fn = nn.CrossEntropyLoss(),\n",
    "    optimizer= torch.optim.Adam(net.parameters(),lr=5e-3),\n",
    "    metrics_dict = {\"acc\":Accuracy()}\n",
    ")"
   ]
  },
  {
   "cell_type": "markdown",
   "id": "df6bae64",
   "metadata": {},
   "source": [
    "## 3.模型Summary"
   ]
  },
  {
   "cell_type": "code",
   "execution_count": null,
   "id": "ad17716f",
   "metadata": {
    "papermill": {
     "duration": 0.039176,
     "end_time": "2024-01-08T03:46:17.876056",
     "exception": false,
     "start_time": "2024-01-08T03:46:17.836880",
     "status": "completed"
    },
    "tags": []
   },
   "outputs": [],
   "source": [
    "from torchkeras import summary\n",
    "summary(model,input_data=images)"
   ]
  },
  {
   "cell_type": "markdown",
   "id": "62b7cac0",
   "metadata": {},
   "source": [
    "## 4.可视化训练"
   ]
  },
  {
   "cell_type": "code",
   "execution_count": null,
   "id": "bcb41d8d",
   "metadata": {},
   "outputs": [],
   "source": [
    "# if gpu/mps is available, will auto use it, otherwise cpu will be used.\n",
    "ckpt_path='checkpoint'\n",
    "#model.load_ckpt(ckpt_path) #load trained ckpt and continue training\n",
    "dfhistory=model.fit(\n",
    "    train_data=train_dataloader, \n",
    "    val_data=val_dataloader, \n",
    "    epochs=30, \n",
    "    patience=3, \n",
    "    monitor=\"val_acc\",\n",
    "    mode=\"max\",\n",
    "    ckpt_path=ckpt_path,\n",
    "    plot=True,\n",
    "    wandb=False\n",
    ")"
   ]
  },
  {
   "cell_type": "markdown",
   "id": "d1c689b9",
   "metadata": {},
   "source": [
    "## 5.训练结果查看"
   ]
  },
  {
   "cell_type": "code",
   "execution_count": null,
   "id": "b27998a4-393d-44e7-81e0-eed3f49c4707",
   "metadata": {
    "papermill": {
     "duration": 0.006963,
     "end_time": "2024-01-08T03:48:06.441452",
     "exception": false,
     "start_time": "2024-01-08T03:48:06.434489",
     "status": "completed"
    },
    "tags": []
   },
   "outputs": [],
   "source": [
    "import matplotlib.pyplot as plt\n",
    "\n",
    "def plot_metric(dfhistory, metric):\n",
    "    train_metrics = dfhistory[\"train_\"+metric]\n",
    "    val_metrics = dfhistory['val_'+metric]\n",
    "    epochs = range(1, len(train_metrics) + 1)\n",
    "    plt.plot(epochs, train_metrics, 'bo--')\n",
    "    plt.plot(epochs, val_metrics, 'ro-')\n",
    "    plt.title('Training and validation '+ metric)\n",
    "    plt.xlabel(\"Epochs\")\n",
    "    plt.ylabel(metric)\n",
    "    plt.legend([\"train_\"+metric, 'val_'+metric])\n",
    "    plt.show()\n",
    "    "
   ]
  },
  {
   "cell_type": "code",
   "execution_count": null,
   "id": "a179179f-65ff-434e-b317-17ca56355e7e",
   "metadata": {
    "papermill": {
     "duration": 0.091692,
     "end_time": "2024-01-08T03:48:06.536416",
     "exception": false,
     "start_time": "2024-01-08T03:48:06.444724",
     "status": "completed"
    },
    "tags": []
   },
   "outputs": [],
   "source": [
    "plot_metric(dfhistory,'loss')"
   ]
  },
  {
   "cell_type": "code",
   "execution_count": null,
   "id": "960119f4",
   "metadata": {
    "papermill": {
     "duration": 0.114503,
     "end_time": "2024-01-08T03:48:06.663299",
     "exception": false,
     "start_time": "2024-01-08T03:48:06.548796",
     "status": "completed"
    },
    "tags": []
   },
   "outputs": [],
   "source": [
    "plot_metric(dfhistory,\"acc\")"
   ]
  },
  {
   "cell_type": "code",
   "execution_count": null,
   "id": "62f8cf7b",
   "metadata": {
    "papermill": {
     "duration": 1.413179,
     "end_time": "2024-01-08T03:48:08.087468",
     "exception": false,
     "start_time": "2024-01-08T03:48:06.674289",
     "status": "completed"
    },
    "tags": []
   },
   "outputs": [],
   "source": [
    "model.evaluate(val_dataloader,quiet=False)"
   ]
  },
  {
   "cell_type": "markdown",
   "id": "96911b58",
   "metadata": {
    "papermill": {
     "duration": 0.004136,
     "end_time": "2024-01-08T03:48:08.105115",
     "exception": false,
     "start_time": "2024-01-08T03:48:08.100979",
     "status": "completed"
    },
    "tags": []
   },
   "source": [
    "# 四、推理"
   ]
  },
  {
   "cell_type": "code",
   "execution_count": null,
   "id": "91b21a4e-be1c-4fba-ae99-7fe4962c67b6",
   "metadata": {
    "papermill": {
     "duration": 0.854193,
     "end_time": "2024-01-08T03:48:08.963572",
     "exception": false,
     "start_time": "2024-01-08T03:48:08.109379",
     "status": "completed"
    },
    "tags": []
   },
   "outputs": [],
   "source": [
    "#  used the saved model parameters \n",
    "new_net = create_net() \n",
    "\n",
    "model_clone = torchkeras.KerasModel(\n",
    "    new_net,\n",
    "    loss_fn = nn.CrossEntropyLoss(),\n",
    "    optimizer= torch.optim.Adam(new_net.parameters(),lr = 0.001),\n",
    "    metrics_dict={\"acc\":Accuracy()}\n",
    ")\n",
    "\n",
    "model_clone.load_ckpt(\"checkpoint\")\n",
    "\n",
    "\n",
    "net = model_clone.net\n",
    "net.eval();\n",
    "\n",
    "img, label = train_dataset[1]\n",
    "\n",
    "y_pred = torch.argmax(net(img[None,...])) \n",
    "y_prob = torch.softmax(net(img[None,...]),dim=-1).max() \n",
    "\n",
    "img = img.permute(1,2,0)\n",
    "plt.imshow(img)\n",
    "print('y_pred = ', y_pred.item())\n",
    "print('y_prob = ', y_prob.item())\n",
    "\n"
   ]
  }
 ],
 "metadata": {
  "@deathbeds/ipydrawio": {
   "xml": ""
  },
  "jupytext": {
   "cell_metadata_filter": "-all",
   "main_language": "python",
   "notebook_metadata_filter": "-all"
  },
  "kernelspec": {
   "display_name": "Python 3.9.19 ('pySEG')",
   "language": "python",
   "name": "python3"
  },
  "language_info": {
   "codemirror_mode": {
    "name": "ipython",
    "version": 3
   },
   "file_extension": ".py",
   "mimetype": "text/x-python",
   "name": "python",
   "nbconvert_exporter": "python",
   "pygments_lexer": "ipython3",
   "version": "3.9.19"
  },
  "papermill": {
   "default_parameters": {},
   "duration": 120.803924,
   "end_time": "2024-01-08T03:48:11.660855",
   "environment_variables": {},
   "exception": null,
   "input_path": "/Users/liangyun2/CodeFiles/torchkeras/01，kerasmodel_example.ipynb",
   "output_path": "/Users/liangyun2/CodeFiles/torchkeras/01，kerasmodel_example.ipynb",
   "parameters": {},
   "start_time": "2024-01-08T03:46:10.856931",
   "version": "2.5.0"
  },
  "vscode": {
   "interpreter": {
    "hash": "dfeb69ff696cd63238e05b4773d897f3057cfecb326a4d3e6c8f0298eb2ed7ac"
   }
  }
 },
 "nbformat": 4,
 "nbformat_minor": 5
}
