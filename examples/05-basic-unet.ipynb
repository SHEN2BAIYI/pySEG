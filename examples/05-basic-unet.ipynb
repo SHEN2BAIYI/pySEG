{
 "cells": [
  {
   "cell_type": "markdown",
   "metadata": {},
   "source": [
    "# UNet 车道线检测"
   ]
  },
  {
   "cell_type": "markdown",
   "metadata": {
    "heading_collapsed": true
   },
   "source": [
    "# 一、环境准备"
   ]
  },
  {
   "cell_type": "markdown",
   "metadata": {
    "heading_collapsed": true,
    "hidden": true
   },
   "source": [
    "## 1.检查 CUDA 状态"
   ]
  },
  {
   "cell_type": "markdown",
   "metadata": {},
   "source": [
    "多卡需禁用，或者运行后重启内核。"
   ]
  },
  {
   "cell_type": "code",
   "execution_count": null,
   "metadata": {
    "hidden": true
   },
   "outputs": [],
   "source": [
    "import torch\n",
    "\n",
    "def check_cuda():\n",
    "    flag = torch.cuda.is_available()\n",
    "    if flag:\n",
    "        print(\"CUDA可使用\")\n",
    "    else:\n",
    "        print(\"CUDA不可用\")\n",
    "\n",
    "    # 获取GPU数量\n",
    "    ngpu = torch.cuda.device_count()\n",
    "    print(\"GPU数量：\",ngpu)\n",
    "    # Decide which device we want to run on\n",
    "    device = torch.device(\"cuda:1\" if (torch.cuda.is_available() and ngpu > 0) else \"cpu\")\n",
    "    print(\"驱动为：\",device)\n",
    "    print(\"GPU型号： \",torch.cuda.get_device_name(0))\n",
    "\n",
    "\n",
    "# check_cuda()"
   ]
  },
  {
   "cell_type": "markdown",
   "metadata": {
    "hidden": true
   },
   "source": [
    "## 2.环境超参"
   ]
  },
  {
   "cell_type": "code",
   "execution_count": null,
   "metadata": {
    "hidden": true
   },
   "outputs": [],
   "source": [
    "from argparse import Namespace\n",
    "import sys\n",
    "sys.path.insert(0, '..')\n",
    "\n",
    "config = Namespace(\n",
    "    img_size = 128,\n",
    "    lr = 1e-4,\n",
    "    batch_size = 4,\n",
    "    num_workers = 2,\n",
    ")"
   ]
  },
  {
   "cell_type": "markdown",
   "metadata": {
    "heading_collapsed": true
   },
   "source": [
    "# 二、数据准备"
   ]
  },
  {
   "cell_type": "markdown",
   "metadata": {
    "hidden": true
   },
   "source": [
    "## 1.定义数据增强方式"
   ]
  },
  {
   "cell_type": "code",
   "execution_count": null,
   "metadata": {},
   "outputs": [],
   "source": [
    "import albumentations as A\n",
    "from albumentations.pytorch import ToTensorV2\n",
    "\n",
    "\n",
    "def create_transform():\n",
    "    train_transforms = A.Compose(\n",
    "        [\n",
    "            A.OneOf([\n",
    "                A.HorizontalFlip(p=0.5),\n",
    "                A.VerticalFlip(p=0.5),\n",
    "            ]),\n",
    "            ToTensorV2(p=1),\n",
    "        ],\n",
    "        p=1.0,\n",
    "    )\n",
    "    val_transforms = A.Compose(\n",
    "        [\n",
    "            ToTensorV2(p=1),\n",
    "        ],\n",
    "        p=1.0,\n",
    "    )\n",
    "    return train_transforms, val_transforms\n"
   ]
  },
  {
   "cell_type": "markdown",
   "metadata": {
    "hidden": true
   },
   "source": [
    "## 2.定义 dataset 和 dataloader"
   ]
  },
  {
   "cell_type": "code",
   "execution_count": null,
   "metadata": {
    "hidden": true
   },
   "outputs": [],
   "source": [
    "from pathlib import Path\n",
    "import torch\n",
    "import torch.utils\n",
    "import torchvision\n",
    "\n",
    "from torch.utils.data import DataLoader\n",
    "from custom.dataset import CustomDataset\n",
    "\n",
    "def create_dataset():\n",
    "    train_imgs = [\n",
    "        str(x) for x in Path(\"../datasets/lane_lines/train\").rglob(\"*.jpg\")\n",
    "        if 'checkpoint' not in str(x)\n",
    "    ]\n",
    "\n",
    "    val_imgs = [\n",
    "        str(x) for x in Path('../datasets/lane_lines/val').rglob(\"*.jpg\")\n",
    "        if 'checkpoint' not in str(x)\n",
    "    ]\n",
    "\n",
    "    train_ts, val_ts = create_transform()\n",
    "    train_ds = CustomDataset(train_imgs, config.img_size, train_ts)\n",
    "    val_ds = CustomDataset(val_imgs, config.img_size, val_ts)\n",
    "\n",
    "    return train_ds, val_ds\n",
    "\n",
    "\n",
    "def create_dataloader(train_ds=None, val_ds=None):\n",
    "    if train_ds is None and val_ds is None:\n",
    "        train_ds, val_ds = create_dataset()\n",
    "\n",
    "    train_dl = DataLoader(\n",
    "        train_ds, batch_size=config.batch_size, \n",
    "        shuffle=True, num_workers=config.num_workers\n",
    "    )\n",
    "    val_dl = DataLoader(\n",
    "        val_ds, batch_size=config.batch_size,\n",
    "        shuffle=False, num_workers=config.num_workers\n",
    "    )\n",
    "    return train_dl, val_dl\n",
    "\n",
    "\n",
    "train_dataset, val_dataset = create_dataset()\n",
    "train_dataloader, val_dataloader = create_dataloader(train_dataset, val_dataset)\n"
   ]
  },
  {
   "cell_type": "markdown",
   "metadata": {
    "hidden": true
   },
   "source": [
    "## 3.检查数据"
   ]
  },
  {
   "cell_type": "code",
   "execution_count": null,
   "metadata": {
    "hidden": true
   },
   "outputs": [],
   "source": [
    "import numpy as np\n",
    "from PIL import Image\n",
    "from torchkeras.plots import joint_imgs_row\n",
    "\n",
    "for batch in train_dataloader:\n",
    "    image = batch['image']\n",
    "    mask = batch['mask']\n",
    "    print(image.shape, mask.shape)\n",
    "    # tensor -> numpy -> PIL\n",
    "    image = image[0].permute(1, 2, 0).numpy() * 255\n",
    "    mask = mask[0].permute(1, 2, 0).numpy().squeeze()\n",
    "    mask = np.where(mask > 0.5, 255, 0).astype(np.uint8)\n",
    "    image = Image.fromarray(image.astype(np.uint8))\n",
    "    mask = Image.fromarray(mask)\n",
    "    display(joint_imgs_row(image, mask))\n",
    "    break\n",
    "\n",
    "display(train_dataset.show_sample(10))"
   ]
  },
  {
   "cell_type": "markdown",
   "metadata": {},
   "source": [
    "# 三、训练准备"
   ]
  },
  {
   "cell_type": "markdown",
   "metadata": {},
   "source": [
    "## 1.定义模型"
   ]
  },
  {
   "cell_type": "code",
   "execution_count": null,
   "metadata": {},
   "outputs": [],
   "source": [
    "from torchkeras.models import UNet\n",
    "\n",
    "net = UNet(in_channels=3, num_classes=1)"
   ]
  },
  {
   "cell_type": "markdown",
   "metadata": {},
   "source": [
    "## 2.定义 loss、optimizer、lr_scheduler、metrics_dict"
   ]
  },
  {
   "cell_type": "code",
   "execution_count": null,
   "metadata": {},
   "outputs": [],
   "source": [
    "import torch\n",
    "from torchkeras.metrics import IOU\n",
    "from torchkeras.kerasmodel import KerasModel\n",
    "from custom.loss import MixedLoss, DiceLoss\n",
    "\n",
    "optim = torch.optim.Adam(net.parameters(), lr=config.lr)\n",
    "lr_scheduler = torch.optim.lr_scheduler.CosineAnnealingLR(\n",
    "    optim, T_max=8, eta_min=1e-6\n",
    ")\n",
    "metrics = {\n",
    "    \"iou\": IOU(num_classes=1)\n",
    "}\n"
   ]
  },
  {
   "cell_type": "markdown",
   "metadata": {},
   "source": [
    "## 3.定义 torckkeras 模型"
   ]
  },
  {
   "cell_type": "code",
   "execution_count": null,
   "metadata": {},
   "outputs": [],
   "source": [
    "model = KerasModel(\n",
    "    net, loss_fn=MixedLoss(0.5), optimizer=optim, lr_scheduler=lr_scheduler, metrics_dict=metrics\n",
    ")"
   ]
  },
  {
   "cell_type": "markdown",
   "metadata": {},
   "source": [
    "## 4.定义训练 StepRunner"
   ]
  },
  {
   "cell_type": "code",
   "execution_count": null,
   "metadata": {},
   "outputs": [],
   "source": [
    "from importlib import reload\n",
    "from torchkeras import kerasmodel, pbar\n",
    "from custom.step import StepRunner\n",
    "\n",
    "# reload(kerasmodel)\n",
    "# reload(pbar)\n",
    "\n",
    "kerasmodel.KerasModel.StepRunner = StepRunner"
   ]
  },
  {
   "cell_type": "markdown",
   "metadata": {},
   "source": [
    "# 四、训练"
   ]
  },
  {
   "cell_type": "markdown",
   "metadata": {},
   "source": [
    "## 1.Wandb记录、VisDisplay展示"
   ]
  },
  {
   "cell_type": "code",
   "execution_count": null,
   "metadata": {},
   "outputs": [],
   "source": [
    "from importlib import reload\n",
    "from torchkeras import kerasmodel, kerascallbacks\n",
    "reload(kerascallbacks)\n",
    "\n",
    "from torchkeras.kerascallbacks import WandbCallback\n",
    "from torchkeras.kerascallbacks import VisDisplay\n",
    "\n",
    "\n",
    "def display_fn(model):\n",
    "    from matplotlib import pyplot as plt\n",
    "    batch = next(iter(val_dataloader))\n",
    "\n",
    "    with torch.no_grad():\n",
    "        model.eval()\n",
    "        logits = model(batch[\"image\"].cuda())\n",
    "    pr_masks = logits.sigmoid()\n",
    "\n",
    "    for image, gt_mask, pr_mask in zip(batch[\"image\"][:2], batch[\"mask\"][:2], pr_masks[:2]):\n",
    "        plt.figure(figsize=(16, 10))\n",
    "\n",
    "        plt.subplot(1, 3, 1)\n",
    "        plt.imshow(image.numpy().transpose(1, 2, 0))  # convert CHW -> HWC\n",
    "        plt.title(\"Image\")\n",
    "        plt.axis(\"off\")\n",
    "\n",
    "        plt.subplot(1, 3, 2)\n",
    "        plt.imshow(gt_mask.numpy().squeeze())\n",
    "        plt.title(\"Ground truth\")\n",
    "        plt.axis(\"off\")\n",
    "\n",
    "        plt.subplot(1, 3, 3)\n",
    "        plt.imshow(pr_mask.cpu().numpy().squeeze())\n",
    "        plt.title(\"Prediction\")\n",
    "        plt.axis(\"off\")\n",
    "\n",
    "        plt.show()\n",
    "\n",
    "\n",
    "wandb_cb = WandbCallback(\n",
    "    project='lane_lines',\n",
    "    config=config.__dict__,\n",
    "    name=None,\n",
    "    save_code=True,\n",
    "    save_ckpt=True,\n",
    ")\n",
    "\n",
    "visdis_cb = VisDisplay(display_fn,model = model,init_display=False)\n"
   ]
  },
  {
   "cell_type": "markdown",
   "metadata": {},
   "source": [
    "## 2.单卡训练"
   ]
  },
  {
   "cell_type": "code",
   "execution_count": null,
   "metadata": {},
   "outputs": [],
   "source": [
    "\n",
    "dfhistory=model.fit(\n",
    "    train_data=train_dataloader,\n",
    "    val_data=val_dataloader,\n",
    "    epochs=40,\n",
    "    ckpt_path='checkpoint.pt',\n",
    "    patience=5,\n",
    "    monitor=\"val_iou\",\n",
    "    mode=\"max\",\n",
    "    mixed_precision='no',\n",
    "    callbacks = [wandb_cb,visdis_cb],\n",
    "    plot=True,\n",
    "    cpu=False,\n",
    "    quiet=True,\n",
    ")\n"
   ]
  },
  {
   "cell_type": "markdown",
   "metadata": {},
   "source": [
    "## 3.多卡训练"
   ]
  },
  {
   "cell_type": "markdown",
   "metadata": {},
   "source": [
    "需重启内核，禁用 1.1 cuda 检测，并且之前不能运行任何训练代码。"
   ]
  },
  {
   "cell_type": "code",
   "execution_count": null,
   "metadata": {},
   "outputs": [],
   "source": [
    "args = dict(\n",
    "    train_data = train_dataloader,\n",
    "    val_data = val_dataloader,\n",
    "    epochs = 40,\n",
    "    ckpt_path = \"checkpoint.pt\",\n",
    "    patience = 5,\n",
    "    monitor = 'val_iou',\n",
    "    mode = 'max',\n",
    "    mixed_precision = 'no',\n",
    "    callbacks = [wandb_cb, visdis_cb],\n",
    "    plot = True,\n",
    "    cpu = False,\n",
    "    quiet = None\n",
    ")\n",
    "\n",
    "dfhistory = model.fit_ddp(\n",
    "    num_processes=2,\n",
    "    **args\n",
    ")"
   ]
  },
  {
   "cell_type": "markdown",
   "metadata": {},
   "source": [
    "## 4.查看训练结果"
   ]
  },
  {
   "cell_type": "markdown",
   "metadata": {},
   "source": [
    "只能单卡查看，多卡如果需要查看，就去 wandb。"
   ]
  },
  {
   "cell_type": "code",
   "execution_count": null,
   "metadata": {},
   "outputs": [],
   "source": [
    "from importlib import reload \n",
    "from torchkeras import plots\n",
    "reload(plots)\n",
    "from torchkeras.plots import plot_metric \n",
    "\n",
    "plot_metric(dfhistory,'iou')"
   ]
  },
  {
   "cell_type": "code",
   "execution_count": null,
   "metadata": {},
   "outputs": [],
   "source": [
    "plot_metric(dfhistory,'loss')"
   ]
  },
  {
   "cell_type": "markdown",
   "metadata": {},
   "source": [
    "## 5、模型验证"
   ]
  },
  {
   "cell_type": "code",
   "execution_count": null,
   "metadata": {},
   "outputs": [],
   "source": [
    "model.evaluate(val_dataloader)"
   ]
  },
  {
   "cell_type": "markdown",
   "metadata": {},
   "source": [
    "# 五、模型推理"
   ]
  },
  {
   "cell_type": "markdown",
   "metadata": {},
   "source": [
    "重启内核，不要运行第四章。"
   ]
  },
  {
   "cell_type": "code",
   "execution_count": null,
   "metadata": {},
   "outputs": [],
   "source": [
    "import matplotlib.pyplot as plt\n",
    "import torch\n",
    "\n",
    "\n",
    "model.load_ckpt('checkpoint.pt')\n",
    "\n",
    "net = model.net\n",
    "net.eval()\n",
    "\n",
    "batch = next(iter(val_dataloader))\n",
    "\n",
    "logits = net(batch[\"image\"])\n",
    "pr_masks = logits.sigmoid()\n",
    "\n",
    "\n",
    "# with torch.no_grad():\n",
    "#     model.eval()\n",
    "#     logits = model(batch[\"image\"].cuda())\n",
    "    \n",
    "# pr_masks = logits.sigmoid()\n",
    "\n",
    "\n",
    "for image, gt_mask, pr_mask in zip(batch[\"image\"][:2], batch[\"mask\"][:2], pr_masks[:2]):\n",
    "    plt.figure(figsize=(16, 10))\n",
    "\n",
    "    plt.subplot(1, 3, 1)\n",
    "    plt.imshow(image.numpy().transpose(1, 2, 0))  # convert CHW -> HWC\n",
    "    plt.title(\"Image\")\n",
    "    plt.axis(\"off\")\n",
    "\n",
    "    plt.subplot(1, 3, 2)\n",
    "    plt.imshow(gt_mask.numpy().squeeze()) \n",
    "    plt.title(\"Ground truth\")\n",
    "    plt.axis(\"off\")\n",
    "\n",
    "    plt.subplot(1, 3, 3)\n",
    "    plt.imshow(pr_mask.detach().cpu().numpy().squeeze()) \n",
    "    plt.title(\"Prediction\")\n",
    "    plt.axis(\"off\")\n",
    "\n",
    "    plt.show()"
   ]
  }
 ],
 "metadata": {
  "kernelspec": {
   "display_name": "Python 3.9.19 ('pySEG')",
   "language": "python",
   "name": "python3"
  },
  "language_info": {
   "codemirror_mode": {
    "name": "ipython",
    "version": 3
   },
   "file_extension": ".py",
   "mimetype": "text/x-python",
   "name": "python",
   "nbconvert_exporter": "python",
   "pygments_lexer": "ipython3",
   "version": "3.9.19"
  },
  "vscode": {
   "interpreter": {
    "hash": "dfeb69ff696cd63238e05b4773d897f3057cfecb326a4d3e6c8f0298eb2ed7ac"
   }
  }
 },
 "nbformat": 4,
 "nbformat_minor": 1
}
