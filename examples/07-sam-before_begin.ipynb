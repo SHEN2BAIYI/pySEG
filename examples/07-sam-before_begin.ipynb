{
 "cells": [
  {
   "cell_type": "markdown",
   "metadata": {},
   "source": [
    "# 官方瑕疵"
   ]
  },
  {
   "cell_type": "markdown",
   "metadata": {},
   "source": [
    "## 1. batch_size > 1 报错"
   ]
  },
  {
   "attachments": {
    "image.png": {
     "image/png": "[encoded data removed]"
    }
   },
   "cell_type": "markdown",
   "metadata": {},
   "source": [
    "需要更改 mask_decoder 中 125 行\n",
    "\n",
    "![image.png](attachment:image.png)"
   ]
  },
  {
   "cell_type": "markdown",
   "metadata": {},
   "source": [
    "# 数据推理"
   ]
  },
  {
   "cell_type": "markdown",
   "metadata": {},
   "source": [
    "## 获取训练数据"
   ]
  },
  {
   "cell_type": "markdown",
   "metadata": {},
   "source": [
    "### 1. dataset.get()"
   ]
  },
  {
   "cell_type": "markdown",
   "metadata": {},
   "source": [
    "#### 功能"
   ]
  },
  {
   "cell_type": "markdown",
   "metadata": {},
   "source": [
    "导入原图像和mask，如果需要则随机选择prompt。"
   ]
  },
  {
   "cell_type": "markdown",
   "metadata": {},
   "source": [
    "#### 数据格式"
   ]
  },
  {
   "cell_type": "markdown",
   "metadata": {},
   "source": [
    "image: PIL\n",
    "\n",
    "mask: PIL\n",
    "\n",
    "point: numpy [N, 2] (x, y)\n",
    "\n",
    "bbox: numpy [N, 4] (x1, y1, x2, y2)"
   ]
  },
  {
   "cell_type": "markdown",
   "metadata": {},
   "source": [
    "### 2. dataset.__getitem__()"
   ]
  },
  {
   "cell_type": "markdown",
   "metadata": {},
   "source": [
    "#### 功能"
   ]
  },
  {
   "cell_type": "markdown",
   "metadata": {},
   "source": [
    "完成所有预处理操作。在 SAM 中，主要是完成：\n",
    "\n",
    "1. 导入图像和标签。( PIL -> [H, W, C] )\n",
    "\n",
    "2. maxResize。这会使得原图像和mask在不改变长宽比例的情况下将最长边resize到符合模型输入的大小，一般是 1024。\n",
    "\n",
    "3. padding。在上一步的基础上将另一短边padding到模型输入大小。([H, W, C] -> [1024, 1024, C])。\n",
    "\n",
    "4. normalize 及 toTensor。这不会改变图像大小，只会改变图像属性。([1024, 1024, C] -> [C, 1024, 1024])。\n",
    "\n",
    "5. mask 会被 clip 到 [0, 1] 之间。\n",
    "\n",
    "6. prompt 坐标也会随图像大小改变。"
   ]
  },
  {
   "cell_type": "markdown",
   "metadata": {},
   "source": [
    "#### 数据格式"
   ]
  },
  {
   "cell_type": "markdown",
   "metadata": {},
   "source": [
    "image: numpy [C, 1024, 1024]\n",
    "\n",
    "mask: numpy [1, 1024, 1024]\n",
    "\n",
    "keypoints: numpy [N, 2]\n",
    "\n",
    "bboxes: numpy [N, 4]\n",
    "\n",
    "cls_labels: numpy [N]\n",
    "\n",
    "idx: numpy [1]"
   ]
  },
  {
   "cell_type": "markdown",
   "metadata": {},
   "source": [
    "### 3. for batch in train_dataloder"
   ]
  },
  {
   "cell_type": "markdown",
   "metadata": {},
   "source": [
    "#### 功能"
   ]
  },
  {
   "cell_type": "markdown",
   "metadata": {},
   "source": [
    "遍历 train_dataloader，每次循环随机抽取 batch_size 数据。"
   ]
  },
  {
   "cell_type": "markdown",
   "metadata": {},
   "source": [
    "#### 数据格式"
   ]
  },
  {
   "cell_type": "markdown",
   "metadata": {},
   "source": [
    "image: tensor [B, C, 1024, 1024]\n",
    "\n",
    "mask: tensor [B, 1, 1024, 1024]\n",
    "\n",
    "keypoints: tensor [B, N, 2]\n",
    "\n",
    "bboxes: tensor [B, N, 4]\n",
    "\n",
    "cls_labels: tensor [B, N]\n",
    "\n",
    "idx: numpy [B, 1]"
   ]
  },
  {
   "cell_type": "markdown",
   "metadata": {},
   "source": [
    "### 4. prompt 坐标处理"
   ]
  },
  {
   "cell_type": "markdown",
   "metadata": {},
   "source": [
    "#### 功能"
   ]
  },
  {
   "cell_type": "markdown",
   "metadata": {},
   "source": [
    "在进行训练之前还需要对 point prompt 进行一些处理（bbox 无需处理）。"
   ]
  },
  {
   "cell_type": "markdown",
   "metadata": {},
   "source": [
    "#### 数据格式"
   ]
  },
  {
   "cell_type": "markdown",
   "metadata": {},
   "source": [
    "keypoints: tuple(tensor) ([B, N, 2], [B, N])"
   ]
  },
  {
   "cell_type": "markdown",
   "metadata": {},
   "source": [
    "### 5. image_encoder"
   ]
  },
  {
   "cell_type": "markdown",
   "metadata": {},
   "source": [
    "#### 功能"
   ]
  },
  {
   "cell_type": "markdown",
   "metadata": {},
   "source": [
    "进行图像编码"
   ]
  },
  {
   "cell_type": "markdown",
   "metadata": {},
   "source": [
    "#### 数据格式"
   ]
  },
  {
   "cell_type": "markdown",
   "metadata": {},
   "source": [
    "image_embeddings: tensor [B, 256, 64, 64]"
   ]
  },
  {
   "cell_type": "markdown",
   "metadata": {},
   "source": [
    "### 6. prompt_encoder"
   ]
  },
  {
   "cell_type": "markdown",
   "metadata": {},
   "source": [
    "#### 功能"
   ]
  },
  {
   "cell_type": "markdown",
   "metadata": {},
   "source": [
    "进行 prompt 编码。"
   ]
  },
  {
   "cell_type": "markdown",
   "metadata": {},
   "source": [
    "#### 数据格式"
   ]
  },
  {
   "cell_type": "markdown",
   "metadata": {},
   "source": [
    "sparse_embeddings: tensor [B, 2, 256]\n",
    "\n",
    "dense_embeddings: tensor [B, 256, 64, 64]"
   ]
  },
  {
   "cell_type": "markdown",
   "metadata": {},
   "source": [
    "### 7. mask_decoder"
   ]
  },
  {
   "cell_type": "markdown",
   "metadata": {},
   "source": [
    "#### 功能"
   ]
  },
  {
   "cell_type": "markdown",
   "metadata": {},
   "source": [
    "生成低分辨率 mask 和 iou 置信度（这个应该是吧）。这里可以设置 multimask_output 参数来决定是否生成多个 mask。"
   ]
  },
  {
   "cell_type": "markdown",
   "metadata": {},
   "source": [
    "#### 数据格式"
   ]
  },
  {
   "cell_type": "markdown",
   "metadata": {},
   "source": [
    "low_res_masks: tensor [B, 1, 256, 256]\n",
    "\n",
    "iou_predictions: tensor [B, 1]"
   ]
  },
  {
   "cell_type": "markdown",
   "metadata": {},
   "source": [
    "#### 附加信息"
   ]
  },
  {
   "cell_type": "markdown",
   "metadata": {},
   "source": [
    "这个时候生成的低分辨率 mask 是二分割结果，官方认为如果结果小于 0，则认为是背景，反之则为前景。如果需要计算 loss，则需要将结果映射到正区间（sigmoid）。"
   ]
  },
  {
   "cell_type": "markdown",
   "metadata": {},
   "source": [
    "### 8. postprocess_masks"
   ]
  },
  {
   "cell_type": "markdown",
   "metadata": {},
   "source": [
    "#### 功能"
   ]
  },
  {
   "cell_type": "markdown",
   "metadata": {},
   "source": [
    "改变 mask 大小，使得和 gt 大小相同进行比较。这里如果必要会依次进行三个操作（custom 中只使用了第一点）：\n",
    "\n",
    "1. 插值，mask 大小将改变为网络输入大小，一般为 1024。\n",
    "\n",
    "2. 取值，因为之前存在插值，所以这里从左上角取值，大小将改变为原图像经过 maxResize 后图像的大小。\n",
    "\n",
    "3. 插值，这一步将完全将 mask 大小改变为原始图像大小。"
   ]
  },
  {
   "cell_type": "markdown",
   "metadata": {},
   "source": [
    "#### 数据格式"
   ]
  },
  {
   "cell_type": "markdown",
   "metadata": {},
   "source": [
    "masks: tensor [B, 1, 1024, 1024]"
   ]
  }
 ],
 "metadata": {
  "language_info": {
   "name": "python"
  }
 },
 "nbformat": 4,
 "nbformat_minor": 2
}
